{
 "cells": [
  {
   "cell_type": "markdown",
   "id": "ce177e83-34eb-4cb2-8488-bdaa136e914f",
   "metadata": {
    "jp-MarkdownHeadingCollapsed": true,
    "tags": []
   },
   "source": [
    "### TOPIC: PYTHON BASIC VARIABLE"
   ]
  },
  {
   "cell_type": "markdown",
   "id": "a811d440-d3ed-4071-9d52-7662c4c7fe68",
   "metadata": {
    "jp-MarkdownHeadingCollapsed": true,
    "tags": []
   },
   "source": [
    "##### 1. Declare two variables, `x` and `y`, and assign them integer values.Swap the values of these variables without using any temporary variable."
   ]
  },
  {
   "cell_type": "code",
   "execution_count": 1,
   "id": "edbf7ed6-5392-43ae-bf43-5bf4f683cce9",
   "metadata": {},
   "outputs": [],
   "source": [
    "x = 10"
   ]
  },
  {
   "cell_type": "code",
   "execution_count": 2,
   "id": "bcbeb41c-20c9-457a-8b85-c62b87315c23",
   "metadata": {},
   "outputs": [],
   "source": [
    "y = 20"
   ]
  },
  {
   "cell_type": "code",
   "execution_count": 3,
   "id": "bb5fbb1e-c521-45a1-b0bf-eb77b77ed550",
   "metadata": {},
   "outputs": [
    {
     "data": {
      "text/plain": [
       "(10, 20)"
      ]
     },
     "execution_count": 3,
     "metadata": {},
     "output_type": "execute_result"
    }
   ],
   "source": [
    "x,y #chechking the assigned values"
   ]
  },
  {
   "cell_type": "code",
   "execution_count": 4,
   "id": "1d41cd9b-599e-462c-a6f2-3c9dfda2f112",
   "metadata": {},
   "outputs": [],
   "source": [
    "x,y = y,x #swapping the values assigned"
   ]
  },
  {
   "cell_type": "code",
   "execution_count": 5,
   "id": "18fb3abf-2d44-4957-a978-58750b608115",
   "metadata": {},
   "outputs": [
    {
     "data": {
      "text/plain": [
       "(20, 10)"
      ]
     },
     "execution_count": 5,
     "metadata": {},
     "output_type": "execute_result"
    }
   ],
   "source": [
    "x,y # checking the output"
   ]
  },
  {
   "cell_type": "markdown",
   "id": "76b8ec2d-9cd3-433a-abcf-a3803d325f91",
   "metadata": {
    "jp-MarkdownHeadingCollapsed": true,
    "tags": []
   },
   "source": [
    "##### 2. Create a program that calculates the area of a rectangle. Take the length and width as inputs from the user and store them in variables.Calculate and display the area."
   ]
  },
  {
   "cell_type": "code",
   "execution_count": 24,
   "id": "574f43cb-911f-4af3-bbe2-c591b4821427",
   "metadata": {},
   "outputs": [],
   "source": [
    "#Taking inputs from user and assiging them to 'l' and 'b' variables "
   ]
  },
  {
   "cell_type": "code",
   "execution_count": 20,
   "id": "48ae91c9-001c-4fbb-9eac-584eab170dee",
   "metadata": {},
   "outputs": [
    {
     "name": "stdin",
     "output_type": "stream",
     "text": [
      "Enter the length of rectangle:  15\n",
      "Enter the breadth of the rectangle:  165\n"
     ]
    }
   ],
   "source": [
    "l = int(input('Enter the length of rectangle: '))\n",
    "b = int(input('Enter the breadth of the rectangle: '))"
   ]
  },
  {
   "cell_type": "code",
   "execution_count": null,
   "id": "20aa99d6-3c4a-4a16-b0f6-a0cf8bde3e2a",
   "metadata": {},
   "outputs": [],
   "source": [
    "#calulating the area and assigning it to another variable"
   ]
  },
  {
   "cell_type": "code",
   "execution_count": 23,
   "id": "78f8272b-baf0-4a9e-83ca-37931c88bf6e",
   "metadata": {},
   "outputs": [
    {
     "data": {
      "text/plain": [
       "2475"
      ]
     },
     "execution_count": 23,
     "metadata": {},
     "output_type": "execute_result"
    }
   ],
   "source": [
    "a = l*b\n",
    "a "
   ]
  },
  {
   "cell_type": "code",
   "execution_count": null,
   "id": "13790aab-7bb1-4223-95ad-d96847f2bd30",
   "metadata": {},
   "outputs": [],
   "source": [
    "# concatinating the statement and caluclated area 'a' by converting it into string"
   ]
  },
  {
   "cell_type": "code",
   "execution_count": null,
   "id": "5ff4d27e-d553-4132-9376-eb355b073a03",
   "metadata": {},
   "outputs": [],
   "source": [
    "#Output"
   ]
  },
  {
   "cell_type": "code",
   "execution_count": 22,
   "id": "9ad01b07-df45-41ec-a953-98e874d9d14b",
   "metadata": {},
   "outputs": [
    {
     "data": {
      "text/plain": [
       "'Area of recatangle is 2475'"
      ]
     },
     "execution_count": 22,
     "metadata": {},
     "output_type": "execute_result"
    }
   ],
   "source": [
    "'Area of recatangle is ' + str(a)"
   ]
  },
  {
   "cell_type": "markdown",
   "id": "7168cfa9-e4b7-4116-ac07-ddd4b53fed41",
   "metadata": {
    "jp-MarkdownHeadingCollapsed": true,
    "tags": []
   },
   "source": [
    "##### 3. Write a Python program that converts temperature from Celsius to Fahrenheit. Take the temperature in Celsius as input, store it in a variable, convert it to Fahrenheit, and display the result."
   ]
  },
  {
   "cell_type": "code",
   "execution_count": null,
   "id": "bd25cb67-57a6-4770-acf5-f437db6bdba2",
   "metadata": {},
   "outputs": [],
   "source": [
    "#Taking user input in celsius and assigning it a variable 'c' to convert into fahrenheit"
   ]
  },
  {
   "cell_type": "code",
   "execution_count": 34,
   "id": "1717e9dd-8afb-4de3-a398-88197257e7ef",
   "metadata": {},
   "outputs": [
    {
     "name": "stdin",
     "output_type": "stream",
     "text": [
      "Enter the Temperature in Celsius:  42\n"
     ]
    }
   ],
   "source": [
    "c = int(input('Enter the Temperature in Celsius: '))"
   ]
  },
  {
   "cell_type": "code",
   "execution_count": 35,
   "id": "0337fde7-01b3-4f04-9527-bc3a3c526f30",
   "metadata": {},
   "outputs": [],
   "source": [
    "# caluclating the ttemperature in fahrenheit by applying math and assiging it to variable 'f'"
   ]
  },
  {
   "cell_type": "code",
   "execution_count": 36,
   "id": "6b2c3cb0-586a-4f7d-8445-126313cfb320",
   "metadata": {},
   "outputs": [
    {
     "data": {
      "text/plain": [
       "107.60000000000001"
      ]
     },
     "execution_count": 36,
     "metadata": {},
     "output_type": "execute_result"
    }
   ],
   "source": [
    "f = c*(9/5)+32\n",
    "f"
   ]
  },
  {
   "cell_type": "code",
   "execution_count": 37,
   "id": "de3bbff2-e4e5-4712-9d41-222dd672adb4",
   "metadata": {},
   "outputs": [],
   "source": [
    "#concatinating the statement and converted temperature 'f' by converting 'f' to string"
   ]
  },
  {
   "cell_type": "code",
   "execution_count": 38,
   "id": "2eabf811-ef21-4e6b-a0ad-762fa10148f5",
   "metadata": {},
   "outputs": [
    {
     "data": {
      "text/plain": [
       "'Temperature in Fahrenheit: 107.60000000000001'"
      ]
     },
     "execution_count": 38,
     "metadata": {},
     "output_type": "execute_result"
    }
   ],
   "source": [
    "'Temperature in Fahrenheit: ' + str(f)"
   ]
  },
  {
   "cell_type": "markdown",
   "id": "0c0330d1-a91f-4fe5-bcfd-0b308986aa23",
   "metadata": {
    "tags": []
   },
   "source": [
    "### TOPIC: STRING BASED QUESTIONS"
   ]
  },
  {
   "cell_type": "markdown",
   "id": "571ed103-1979-4416-b0ef-671501a951e9",
   "metadata": {
    "jp-MarkdownHeadingCollapsed": true,
    "tags": []
   },
   "source": [
    "##### 1. Write a Python program that takes a string as input and prints the length of the string."
   ]
  },
  {
   "cell_type": "code",
   "execution_count": null,
   "id": "edd57406-5350-4492-b7ab-a373fd5aa6bd",
   "metadata": {},
   "outputs": [],
   "source": [
    "# Taking user input and storing it in variable 'a' and calling it to check \n",
    "# By default system takes input() as string data type"
   ]
  },
  {
   "cell_type": "code",
   "execution_count": 5,
   "id": "a191c714-d552-4a62-a10d-fa4947eac89a",
   "metadata": {},
   "outputs": [
    {
     "name": "stdout",
     "output_type": "stream",
     "text": [
      "Enter the string: saiganesh\n"
     ]
    },
    {
     "data": {
      "text/plain": [
       "'saiganesh'"
      ]
     },
     "execution_count": 5,
     "metadata": {},
     "output_type": "execute_result"
    }
   ],
   "source": [
    "a = input('Enter the string: ')\n",
    "a"
   ]
  },
  {
   "cell_type": "code",
   "execution_count": 6,
   "id": "53b9c63b-b867-40df-a962-ccb72d6a2c7b",
   "metadata": {},
   "outputs": [],
   "source": [
    "#using len() method to caluclate the length of the string input"
   ]
  },
  {
   "cell_type": "code",
   "execution_count": 7,
   "id": "2b79afbc-a65f-45de-a164-aaa7e7df0171",
   "metadata": {},
   "outputs": [
    {
     "data": {
      "text/plain": [
       "9"
      ]
     },
     "execution_count": 7,
     "metadata": {},
     "output_type": "execute_result"
    }
   ],
   "source": [
    "len(a)"
   ]
  },
  {
   "cell_type": "markdown",
   "id": "2c9bea8e-b4d5-4846-a2e2-01563395d310",
   "metadata": {
    "jp-MarkdownHeadingCollapsed": true,
    "tags": []
   },
   "source": [
    "##### 2. Create a program that takes a sentence from the user and counts the number of vowels (a, e, i, o, u) in the string."
   ]
  },
  {
   "cell_type": "code",
   "execution_count": 5,
   "id": "e011d535-64fc-4003-acb8-843d2bc2d64a",
   "metadata": {},
   "outputs": [
    {
     "name": "stdout",
     "output_type": "stream",
     "text": [
      "enter the sentence: Hi, My Name Is SAI GANESH immADi, i am learning PYTHONNNN PRogramming\n",
      "number of vowels in given sentence is:  20\n"
     ]
    }
   ],
   "source": [
    "sen = input(\"enter the sentence: \") #taking user input\n",
    "conv_sen = sen.lower() #converting it into lower case\n",
    "conv_sen #printing converted string\n",
    "\n",
    "vowels = ['a','e','i','o','u'] #taking vowels as list\n",
    "count = 0 #initialsing the count\n",
    "for char in conv_sen: #using for loop to check the vowels\n",
    "    if char in vowels:\n",
    "        count = count+1\n",
    "        \n",
    "print('number of vowels in given sentence is: ',count)  #output\n"
   ]
  },
  {
   "cell_type": "markdown",
   "id": "ff27739e-6b31-4f8a-a72c-5e202447819d",
   "metadata": {
    "jp-MarkdownHeadingCollapsed": true,
    "tags": []
   },
   "source": [
    "##### 3. Given a string, reverse the order of characters using string slicing and print the reversed string."
   ]
  },
  {
   "cell_type": "code",
   "execution_count": 54,
   "id": "5dd8097c-4ab1-4e6b-a059-9c9d7c3bc069",
   "metadata": {},
   "outputs": [
    {
     "name": "stdin",
     "output_type": "stream",
     "text": [
      " pwskills\n"
     ]
    },
    {
     "data": {
      "text/plain": [
       "'pwskills'"
      ]
     },
     "execution_count": 54,
     "metadata": {},
     "output_type": "execute_result"
    }
   ],
   "source": [
    "name = input('enter the string: ') #taking input from user\n",
    "name"
   ]
  },
  {
   "cell_type": "code",
   "execution_count": 55,
   "id": "bd6ff42f-094e-48f7-82b1-51c9efdc12ad",
   "metadata": {},
   "outputs": [
    {
     "data": {
      "text/plain": [
       "'sllikswp'"
      ]
     },
     "execution_count": 55,
     "metadata": {},
     "output_type": "execute_result"
    }
   ],
   "source": [
    "name[::-1] #using reverse slicing method to reverse the string"
   ]
  },
  {
   "cell_type": "markdown",
   "id": "523b9bc0-96af-4caf-9b88-3766cc380ad2",
   "metadata": {
    "jp-MarkdownHeadingCollapsed": true,
    "tags": []
   },
   "source": [
    "##### 4. Write a program that takes a string as input and checks if it is a palindrome (reads the same forwards and backwards)."
   ]
  },
  {
   "cell_type": "code",
   "execution_count": null,
   "id": "a86cc29a-8217-412f-a597-c90bead4dbc4",
   "metadata": {},
   "outputs": [],
   "source": [
    "# Taking user input as string"
   ]
  },
  {
   "cell_type": "code",
   "execution_count": 3,
   "id": "253e8245-040d-494d-b58d-436087288a58",
   "metadata": {},
   "outputs": [
    {
     "name": "stdout",
     "output_type": "stream",
     "text": [
      "madam\n",
      "Given string is palindrome\n"
     ]
    }
   ],
   "source": [
    "pal = input()\n",
    "if pal == pal[::-1]:                     #reversing string by reverse slicing method\n",
    "    print(\"Given string is palindrome\")  #applying if-else condition and checking and printing output!\n",
    "else:\n",
    "    print(\"Given string is not palindrome\")"
   ]
  },
  {
   "cell_type": "markdown",
   "id": "ed42c271-4c39-4afd-ab8d-0756b8be92e3",
   "metadata": {
    "jp-MarkdownHeadingCollapsed": true,
    "tags": []
   },
   "source": [
    "##### 5. Create a program that takes a string as input and removes all the spaces from it. Print the modified string without spaces."
   ]
  },
  {
   "cell_type": "code",
   "execution_count": 1,
   "id": "24794cbb-ab42-4b2f-b073-9945c3d98be6",
   "metadata": {},
   "outputs": [
    {
     "name": "stdout",
     "output_type": "stream",
     "text": [
      "my name is sai ganesh and i am learning python programming\n"
     ]
    },
    {
     "data": {
      "text/plain": [
       "'mynameissaiganeshandiamlearningpythonprogramming'"
      ]
     },
     "execution_count": 1,
     "metadata": {},
     "output_type": "execute_result"
    }
   ],
   "source": [
    "s1 = input() #Taking string as input form user\n",
    "\n",
    "s2 = s1.replace(' ','') #using replace function replacing the blank space \n",
    "s2                      # printing the string without spaces as output    \n",
    "\n"
   ]
  }
 ],
 "metadata": {
  "kernelspec": {
   "display_name": "Python 3 (ipykernel)",
   "language": "python",
   "name": "python3"
  },
  "language_info": {
   "codemirror_mode": {
    "name": "ipython",
    "version": 3
   },
   "file_extension": ".py",
   "mimetype": "text/x-python",
   "name": "python",
   "nbconvert_exporter": "python",
   "pygments_lexer": "ipython3",
   "version": "3.11.3"
  }
 },
 "nbformat": 4,
 "nbformat_minor": 5
}
